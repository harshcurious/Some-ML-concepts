{
 "cells": [
  {
   "cell_type": "code",
   "execution_count": 1,
   "id": "a79cabb7",
   "metadata": {
    "_cell_guid": "b1076dfc-b9ad-4769-8c92-a6c4dae69d19",
    "_uuid": "8f2839f25d086af736a60e9eeb907d3b93b6e0e5",
    "execution": {
     "iopub.execute_input": "2022-07-18T11:14:21.543159Z",
     "iopub.status.busy": "2022-07-18T11:14:21.542670Z",
     "iopub.status.idle": "2022-07-18T11:14:21.557110Z",
     "shell.execute_reply": "2022-07-18T11:14:21.555965Z"
    },
    "papermill": {
     "duration": 0.026325,
     "end_time": "2022-07-18T11:14:21.559785",
     "exception": false,
     "start_time": "2022-07-18T11:14:21.533460",
     "status": "completed"
    },
    "tags": []
   },
   "outputs": [],
   "source": [
    "# This Python 3 environment comes with many helpful analytics libraries installed\n",
    "# It is defined by the kaggle/python Docker image: https://github.com/kaggle/docker-python\n",
    "# For example, here's several helpful packages to load\n",
    "\n",
    "import numpy as np # linear algebra\n",
    "import pandas as pd # data processing, CSV file I/O (e.g. pd.read_csv)\n",
    "\n",
    "# Input data files are available in the read-only \"../input/\" directory\n",
    "# For example, running this (by clicking run or pressing Shift+Enter) will list all files under the input directory\n",
    "\n",
    "import os\n",
    "for dirname, _, filenames in os.walk('/kaggle/input'):\n",
    "    for filename in filenames:\n",
    "        print(os.path.join(dirname, filename))\n",
    "\n",
    "# You can write up to 20GB to the current directory (/kaggle/working/) that gets preserved as output when you create a version using \"Save & Run All\" \n",
    "# You can also write temporary files to /kaggle/temp/, but they won't be saved outside of the current session"
   ]
  },
  {
   "cell_type": "markdown",
   "id": "5159a6fc",
   "metadata": {
    "papermill": {
     "duration": 0.00614,
     "end_time": "2022-07-18T11:14:21.572568",
     "exception": false,
     "start_time": "2022-07-18T11:14:21.566428",
     "status": "completed"
    },
    "tags": []
   },
   "source": [
    "Reason for NumPy's existence: efficiency on large arrays of data.\n",
    "\n",
    "Why is it efficient?\n",
    "- Stores data in a contiguous block of memory, independent of other built-in Python objects.\n",
    "- Written in C\n",
    "- No type checking or other python overheads\n",
    "- Performs complex computations on entire arrays without using `for` loops."
   ]
  },
  {
   "cell_type": "code",
   "execution_count": 2,
   "id": "aa2f8022",
   "metadata": {
    "execution": {
     "iopub.execute_input": "2022-07-18T11:14:21.586987Z",
     "iopub.status.busy": "2022-07-18T11:14:21.586599Z",
     "iopub.status.idle": "2022-07-18T11:14:22.404552Z",
     "shell.execute_reply": "2022-07-18T11:14:22.403434Z"
    },
    "papermill": {
     "duration": 0.828708,
     "end_time": "2022-07-18T11:14:22.407615",
     "exception": false,
     "start_time": "2022-07-18T11:14:21.578907",
     "status": "completed"
    },
    "tags": []
   },
   "outputs": [
    {
     "name": "stdout",
     "output_type": "stream",
     "text": [
      "Numpy Timings:\n",
      "CPU times: user 10.4 ms, sys: 12.1 ms, total: 22.5 ms\n",
      "Wall time: 23.5 ms\n",
      "Python for loop timings\n",
      "CPU times: user 548 ms, sys: 193 ms, total: 742 ms\n",
      "Wall time: 741 ms\n"
     ]
    }
   ],
   "source": [
    "my_arr = np.arange(1000000)\n",
    "my_list = list(range(1000000))\n",
    "print(\"Numpy Timings:\")\n",
    "%time for _ in range(10): my_arr2 = my_arr * 2\n",
    "\n",
    "print(\"Python for loop timings\")\n",
    "%time for _ in range(10): my_list2 = [x * 2 for x in my_list]"
   ]
  },
  {
   "cell_type": "markdown",
   "id": "b3667a69",
   "metadata": {
    "papermill": {
     "duration": 0.006332,
     "end_time": "2022-07-18T11:14:22.421295",
     "exception": false,
     "start_time": "2022-07-18T11:14:22.414963",
     "status": "completed"
    },
    "tags": []
   },
   "source": [
    "> An **ndarray** is a generic multidimensional container for homogeneous data; that is, <mark>all of the elements must be the same type.</mark>"
   ]
  },
  {
   "cell_type": "markdown",
   "id": "73e7d6d9",
   "metadata": {
    "papermill": {
     "duration": 0.006322,
     "end_time": "2022-07-18T11:14:22.434084",
     "exception": false,
     "start_time": "2022-07-18T11:14:22.427762",
     "status": "completed"
    },
    "tags": []
   },
   "source": [
    "## Attributes\n",
    "\n",
    "1. `ndim`\n",
    "2. `shape`\n",
    "3. `dtype`"
   ]
  },
  {
   "cell_type": "markdown",
   "id": "d55bfac8",
   "metadata": {
    "papermill": {
     "duration": 0.006348,
     "end_time": "2022-07-18T11:14:22.446937",
     "exception": false,
     "start_time": "2022-07-18T11:14:22.440589",
     "status": "completed"
    },
    "tags": []
   },
   "source": [
    "## Array Creation Function"
   ]
  },
  {
   "cell_type": "markdown",
   "id": "a9216a98",
   "metadata": {
    "execution": {
     "iopub.execute_input": "2022-07-18T06:29:06.938814Z",
     "iopub.status.busy": "2022-07-18T06:29:06.938357Z",
     "iopub.status.idle": "2022-07-18T06:29:06.954901Z",
     "shell.execute_reply": "2022-07-18T06:29:06.953116Z",
     "shell.execute_reply.started": "2022-07-18T06:29:06.938780Z"
    },
    "papermill": {
     "duration": 0.00618,
     "end_time": "2022-07-18T11:14:22.459776",
     "exception": false,
     "start_time": "2022-07-18T11:14:22.453596",
     "status": "completed"
    },
    "tags": []
   },
   "source": [
    "| Function | Description |\n",
    "| --- | --- |\n",
    "| `array` | Convert input data (list, tuple, array, or other sequence type) to an ndarray either by inferring a dtype or explicitly specifying a dtype; copies the input data by default |\n",
    "| `asarray` | Convert input to ndarray, but do not copy if the input is already an ndarray |\n",
    "| `arange` | Like the built-in `range` but returns an ndarray instead of a list |\n",
    "| `ones, ones_like` | Produce an array of all 1s with the given shape and dtype; `ones_like` takes another array and produces a ones array of the same shape and dtype |\n",
    "| `zeros, zeros_like` | Like `ones` and `ones_like` but producing arrays of 0s instead |\n",
    "| `empty, empty_like` | Create new arrays by allocating new memory, but do not populate with any values like `ones` and `zeros` |\n",
    "| `full, full_like` | Produce an array of the given shape and dtype with all values set to the indicated \"fill value\" `full_like` takes another array and produces a filled array of the same shape and dtype |\n",
    "| `eye, identity` | Create a square N × N identity matrix (1s on the diagonal and 0s elsewhere) |"
   ]
  },
  {
   "cell_type": "markdown",
   "id": "47b3e02f",
   "metadata": {
    "papermill": {
     "duration": 0.006285,
     "end_time": "2022-07-18T11:14:22.472542",
     "exception": false,
     "start_time": "2022-07-18T11:14:22.466257",
     "status": "completed"
    },
    "tags": []
   },
   "source": [
    "## Numpy `dtype`s"
   ]
  },
  {
   "cell_type": "markdown",
   "id": "b5035137",
   "metadata": {
    "papermill": {
     "duration": 0.006118,
     "end_time": "2022-07-18T11:14:22.485062",
     "exception": false,
     "start_time": "2022-07-18T11:14:22.478944",
     "status": "completed"
    },
    "tags": []
   },
   "source": [
    "| Type | Type code | Description |\n",
    "| --- | --- | --- |\n",
    "| `int8, uint8` | `i1, u1` | Signed and unsigned 8-bit (1 byte) integer types |\n",
    "| `int16, uint16` | `i2, u2` | Signed and unsigned 16-bit integer types |\n",
    "| `int32, uint32` | `i4, u4` | Signed and unsigned 32-bit integer types |\n",
    "| `int64, uint64` | `i8, u8` | Signed and unsigned 64-bit integer types |\n",
    "| `float16` | `f2` | Half-precision floating point |\n",
    "| `float32` | `f4 or f` | Standard single-precision floating point; compatible with C float |\n",
    "| `float64` | `f8 or d` | Standard double-precision floating point; compatible with C double and Python `float` object |\n",
    "| `float128` | `f16 or g` | Extended-precision floating point |\n",
    "| `complex64`, `complex128`, `complex256` | `c8, c16, c32` | Complex numbers represented by two 32, 64, or 128 floats, respectively |\n",
    "| `bool` | ? | Boolean type storing `True` and `False` values |\n",
    "| `object` | O | Python object type; a value can be any Python object |\n",
    "| `string_` | S | Fixed-length ASCII string type (1 byte per character); for example, to create a string dtype with length 10, use `'S10'` |\n",
    "| `unicode_` | U | Fixed-length Unicode type (number of bytes platform specific); same specification semantics as `string_` (e.g., `'U10'`) |"
   ]
  },
  {
   "cell_type": "markdown",
   "id": "8f0b7161",
   "metadata": {
    "papermill": {
     "duration": 0.006131,
     "end_time": "2022-07-18T11:14:22.497633",
     "exception": false,
     "start_time": "2022-07-18T11:14:22.491502",
     "status": "completed"
    },
    "tags": []
   },
   "source": [
    "## Data type conversion\n",
    "\n",
    "Use `astype`\n",
    "\n",
    "`"
   ]
  },
  {
   "cell_type": "code",
   "execution_count": 3,
   "id": "37f2b562",
   "metadata": {
    "execution": {
     "iopub.execute_input": "2022-07-18T11:14:22.512339Z",
     "iopub.status.busy": "2022-07-18T11:14:22.511962Z",
     "iopub.status.idle": "2022-07-18T11:14:22.518074Z",
     "shell.execute_reply": "2022-07-18T11:14:22.516784Z"
    },
    "papermill": {
     "duration": 0.016303,
     "end_time": "2022-07-18T11:14:22.520314",
     "exception": false,
     "start_time": "2022-07-18T11:14:22.504011",
     "status": "completed"
    },
    "tags": []
   },
   "outputs": [
    {
     "name": "stdout",
     "output_type": "stream",
     "text": [
      "int64\n",
      "float64\n"
     ]
    }
   ],
   "source": [
    "arr = np.array([1, 2, 3, 4, 5])\n",
    "print(arr.dtype)\n",
    "float_arr = arr.astype(np.float64)\n",
    "print(float_arr.dtype)"
   ]
  },
  {
   "cell_type": "markdown",
   "id": "b21afb5a",
   "metadata": {
    "papermill": {
     "duration": 0.006374,
     "end_time": "2022-07-18T11:14:22.533269",
     "exception": false,
     "start_time": "2022-07-18T11:14:22.526895",
     "status": "completed"
    },
    "tags": []
   },
   "source": [
    "`numpy.string_` type, as string data in NumPy is <mark>fixed size and may truncate input without warning</mark>"
   ]
  },
  {
   "cell_type": "markdown",
   "id": "51d9c0ba",
   "metadata": {
    "papermill": {
     "duration": 0.006137,
     "end_time": "2022-07-18T11:14:22.545874",
     "exception": false,
     "start_time": "2022-07-18T11:14:22.539737",
     "status": "completed"
    },
    "tags": []
   },
   "source": [
    "## Universal Functions: Fast Element-wise Array functions\n",
    "\n",
    "> Also called *ufunc*.\n",
    "\n",
    "Fast vectorized wrappers for simple functions that take one or more scalar values and produce one or more scalar results.\n",
    "\n",
    "\n",
    "### Unary functions\n",
    "\n",
    "| Function | Description |\n",
    "| --- | --- |\n",
    "| `abs, fabs` | Compute the absolute value element-wise for integer, floating-point, or complex values |\n",
    "| `sqrt` | Compute the square root of each element (equivalent to `arr ** 0.5`) |\n",
    "| `square` | Compute the square of each element (equivalent to `arr ** 2`) |\n",
    "| `exp` | Compute the exponent ex of each element |\n",
    "| `log, log10, log2, log1p` | Natural logarithm (base *e*), log base 10, log base 2, and log(1 + x), respectively |\n",
    "| `sign` | Compute the sign of each element: 1 (positive), 0 (zero), or --1 (negative) |\n",
    "| `ceil` | Compute the ceiling of each element (i.e., the smallest integer greater than or equal to that number) |\n",
    "| `floor` | Compute the floor of each element (i.e., the largest integer less than or equal to each element) |\n",
    "| `rint` | Round elements to the nearest integer, preserving the `dtype` |\n",
    "| `modf` | Return fractional and integral parts of array as a separate array |\n",
    "| `isnan` | Return boolean array indicating whether each value is `NaN` (Not a Number) |\n",
    "| `isfinite, isinf` | Return boolean array indicating whether each element is finite (non-`inf`, non-`NaN`) or infinite, respectively |\n",
    "| `cos, cosh, sin, sinh, tan, tanh` | Regular and hyperbolic trigonometric functions |\n",
    "| `arccos, arccosh, arcsin, arcsinh, arctan, arctanh` | Inverse trigonometric functions |\n",
    "| `logical_not` | Compute truth value of `not x` element-wise (equivalent to `~arr`). |"
   ]
  },
  {
   "cell_type": "markdown",
   "id": "e215ad0c",
   "metadata": {
    "papermill": {
     "duration": 0.006177,
     "end_time": "2022-07-18T11:14:22.558592",
     "exception": false,
     "start_time": "2022-07-18T11:14:22.552415",
     "status": "completed"
    },
    "tags": []
   },
   "source": [
    "### Binary Functions\n",
    "\n",
    "| Function | Description |\n",
    "| --- | --- |\n",
    "| `add` | Add corresponding elements in arrays |\n",
    "| `subtract` | Subtract elements in second array from first array |\n",
    "| `multiply` | Multiply array elements |\n",
    "| `divide, floor_divide` | Divide or floor divide (truncating the remainder) |\n",
    "| `power` | Raise elements in first array to powers indicated in second array |\n",
    "| `maximum, fmax` | Element-wise maximum; `fmax` ignores `NaN` |\n",
    "| `minimum, fmin` | Element-wise minimum; `fmin` ignores `NaN` |\n",
    "| `mod` | Element-wise modulus (remainder of division) |\n",
    "| `copysign` | Copy sign of values in second argument to values in first argument |\n",
    "| `greater, greater_equal, less, less_equal, equal, not_equal` | Perform element-wise comparison, yielding boolean array (equivalent to infix operators `>, >=, <, <=, ==, !=`) |\n",
    "| `logical_and, logical_or, logical_xor` | Compute element-wise truth value of logical operation (equivalent to infix operators `& |, ^`) |"
   ]
  },
  {
   "cell_type": "markdown",
   "id": "ceb39a92",
   "metadata": {
    "papermill": {
     "duration": 0.00618,
     "end_time": "2022-07-18T11:14:22.571263",
     "exception": false,
     "start_time": "2022-07-18T11:14:22.565083",
     "status": "completed"
    },
    "tags": []
   },
   "source": [
    "## Vectorization\n",
    "\n"
   ]
  },
  {
   "cell_type": "code",
   "execution_count": null,
   "id": "07d2148f",
   "metadata": {
    "papermill": {
     "duration": 0.006752,
     "end_time": "2022-07-18T11:14:22.584550",
     "exception": false,
     "start_time": "2022-07-18T11:14:22.577798",
     "status": "completed"
    },
    "tags": []
   },
   "outputs": [],
   "source": []
  },
  {
   "cell_type": "markdown",
   "id": "2c8918d4",
   "metadata": {
    "papermill": {
     "duration": 0.006209,
     "end_time": "2022-07-18T11:14:22.597303",
     "exception": false,
     "start_time": "2022-07-18T11:14:22.591094",
     "status": "completed"
    },
    "tags": []
   },
   "source": [
    "## Broadcasting"
   ]
  },
  {
   "cell_type": "code",
   "execution_count": null,
   "id": "2e3de7de",
   "metadata": {
    "papermill": {
     "duration": 0.00624,
     "end_time": "2022-07-18T11:14:22.610026",
     "exception": false,
     "start_time": "2022-07-18T11:14:22.603786",
     "status": "completed"
    },
    "tags": []
   },
   "outputs": [],
   "source": []
  },
  {
   "cell_type": "markdown",
   "id": "9ac55af8",
   "metadata": {
    "papermill": {
     "duration": 0.006178,
     "end_time": "2022-07-18T11:14:22.622802",
     "exception": false,
     "start_time": "2022-07-18T11:14:22.616624",
     "status": "completed"
    },
    "tags": []
   },
   "source": [
    "## Writing conditional statements in NumPy\n",
    "\n",
    "Use `np.where`"
   ]
  },
  {
   "cell_type": "code",
   "execution_count": 4,
   "id": "aa4ba9b7",
   "metadata": {
    "execution": {
     "iopub.execute_input": "2022-07-18T11:14:22.637449Z",
     "iopub.status.busy": "2022-07-18T11:14:22.637084Z",
     "iopub.status.idle": "2022-07-18T11:14:22.644582Z",
     "shell.execute_reply": "2022-07-18T11:14:22.643789Z"
    },
    "papermill": {
     "duration": 0.017481,
     "end_time": "2022-07-18T11:14:22.646696",
     "exception": false,
     "start_time": "2022-07-18T11:14:22.629215",
     "status": "completed"
    },
    "tags": []
   },
   "outputs": [
    {
     "name": "stdout",
     "output_type": "stream",
     "text": [
      "[1.1, 2.2, 1.3, 1.4, 2.5] <class 'list'>\n",
      "[1.1 2.2 1.3 1.4 2.5] <class 'numpy.ndarray'>\n"
     ]
    }
   ],
   "source": [
    "xarr = np.array([1.1, 1.2, 1.3, 1.4, 1.5])\n",
    "yarr = np.array([2.1, 2.2, 2.3, 2.4, 2.5])\n",
    "cond = np.array([True, False, True, True, False])\n",
    "\n",
    "result1 = [(x if c else y) for x, y, c in zip(xarr, yarr, cond)]\n",
    "print(result1, type(result1))\n",
    "\n",
    "result2 = np.where(cond, xarr, yarr)\n",
    "print(result2, type(result2))"
   ]
  },
  {
   "cell_type": "code",
   "execution_count": 5,
   "id": "67a8491a",
   "metadata": {
    "execution": {
     "iopub.execute_input": "2022-07-18T11:14:22.662288Z",
     "iopub.status.busy": "2022-07-18T11:14:22.661867Z",
     "iopub.status.idle": "2022-07-18T11:14:22.680940Z",
     "shell.execute_reply": "2022-07-18T11:14:22.680071Z"
    },
    "papermill": {
     "duration": 0.030049,
     "end_time": "2022-07-18T11:14:22.683487",
     "exception": false,
     "start_time": "2022-07-18T11:14:22.653438",
     "status": "completed"
    },
    "tags": []
   },
   "outputs": [],
   "source": [
    "rng = np.random.default_rng(123)\n",
    "x = np.arange(1000000)\n",
    "y = rng.integers(low=0,high=1000000, size=1000000)\n",
    "condition = rng.integers(low=0,high=2, size=1000000).astype(np.bool8)"
   ]
  },
  {
   "cell_type": "code",
   "execution_count": 6,
   "id": "b87d0519",
   "metadata": {
    "execution": {
     "iopub.execute_input": "2022-07-18T11:14:22.698713Z",
     "iopub.status.busy": "2022-07-18T11:14:22.697851Z",
     "iopub.status.idle": "2022-07-18T11:14:23.065498Z",
     "shell.execute_reply": "2022-07-18T11:14:23.063892Z"
    },
    "papermill": {
     "duration": 0.378149,
     "end_time": "2022-07-18T11:14:23.068263",
     "exception": false,
     "start_time": "2022-07-18T11:14:22.690114",
     "status": "completed"
    },
    "tags": []
   },
   "outputs": [
    {
     "name": "stdout",
     "output_type": "stream",
     "text": [
      "CPU times: user 331 ms, sys: 22 ms, total: 353 ms\n",
      "Wall time: 353 ms\n",
      "CPU times: user 6.21 ms, sys: 0 ns, total: 6.21 ms\n",
      "Wall time: 5.81 ms\n"
     ]
    }
   ],
   "source": [
    "%time result1 = [(i if c else j) for i, j, c in zip(x, y, condition)]\n",
    "\n",
    "%time result2 = np.where(condition, x, y)"
   ]
  },
  {
   "cell_type": "markdown",
   "id": "7c850cb7",
   "metadata": {
    "papermill": {
     "duration": 0.00637,
     "end_time": "2022-07-18T11:14:23.081330",
     "exception": false,
     "start_time": "2022-07-18T11:14:23.074960",
     "status": "completed"
    },
    "tags": []
   },
   "source": [
    "## Mathematical and Statistical Methods\n",
    "\n",
    "Examples\n",
    "- `sum`\n",
    "- `mean`\n",
    "- `median`\n",
    "- `std`\n",
    "- `cumsum` : cummulative sum\n",
    "- `cumprod` : cummulative product"
   ]
  },
  {
   "cell_type": "code",
   "execution_count": 7,
   "id": "c578bcd2",
   "metadata": {
    "execution": {
     "iopub.execute_input": "2022-07-18T11:14:23.096179Z",
     "iopub.status.busy": "2022-07-18T11:14:23.095757Z",
     "iopub.status.idle": "2022-07-18T11:14:23.104356Z",
     "shell.execute_reply": "2022-07-18T11:14:23.103572Z"
    },
    "papermill": {
     "duration": 0.018745,
     "end_time": "2022-07-18T11:14:23.106751",
     "exception": false,
     "start_time": "2022-07-18T11:14:23.088006",
     "status": "completed"
    },
    "tags": []
   },
   "outputs": [
    {
     "data": {
      "text/plain": [
       "array([ 0,  1,  3,  6, 10, 15, 21, 28])"
      ]
     },
     "execution_count": 7,
     "metadata": {},
     "output_type": "execute_result"
    }
   ],
   "source": [
    "arr = np.array([0, 1, 2, 3, 4, 5, 6, 7])\n",
    "arr.cumsum()"
   ]
  },
  {
   "cell_type": "code",
   "execution_count": 8,
   "id": "92284c38",
   "metadata": {
    "execution": {
     "iopub.execute_input": "2022-07-18T11:14:23.122546Z",
     "iopub.status.busy": "2022-07-18T11:14:23.121669Z",
     "iopub.status.idle": "2022-07-18T11:14:23.127865Z",
     "shell.execute_reply": "2022-07-18T11:14:23.127069Z"
    },
    "papermill": {
     "duration": 0.016411,
     "end_time": "2022-07-18T11:14:23.130166",
     "exception": false,
     "start_time": "2022-07-18T11:14:23.113755",
     "status": "completed"
    },
    "tags": []
   },
   "outputs": [
    {
     "data": {
      "text/plain": [
       "array([   1,    2,    6,   24,  120,  720, 5040])"
      ]
     },
     "execution_count": 8,
     "metadata": {},
     "output_type": "execute_result"
    }
   ],
   "source": [
    "arr[1:].cumprod()"
   ]
  },
  {
   "cell_type": "markdown",
   "id": "fc288628",
   "metadata": {
    "papermill": {
     "duration": 0.006792,
     "end_time": "2022-07-18T11:14:23.143935",
     "exception": false,
     "start_time": "2022-07-18T11:14:23.137143",
     "status": "completed"
    },
    "tags": []
   },
   "source": [
    "### Basic Array Statistical Methods\n",
    "\n",
    "| Method | Description |\n",
    "| --- | --- |\n",
    "| `sum` | Sum of all the elements in the array or along an axis; zero-length arrays have sum 0 |\n",
    "| `mean` | Arithmetic mean; zero-length arrays have `NaN` mean |\n",
    "| `std, var` | Standard deviation and variance, respectively, with optional degrees of freedom adjustment (default denominator `n`) |\n",
    "| `min, max` | Minimum and maximum |\n",
    "| `argmin, argmax` | Indices of minimum and maximum elements, respectively |\n",
    "| `cumsum` | Cumulative sum of elements starting from 0 |\n",
    "| `cumprod` | Cumulative product of elements starting from 1 |"
   ]
  }
 ],
 "metadata": {
  "kernelspec": {
   "display_name": "Python 3",
   "language": "python",
   "name": "python3"
  },
  "language_info": {
   "codemirror_mode": {
    "name": "ipython",
    "version": 3
   },
   "file_extension": ".py",
   "mimetype": "text/x-python",
   "name": "python",
   "nbconvert_exporter": "python",
   "pygments_lexer": "ipython3",
   "version": "3.7.12"
  },
  "papermill": {
   "default_parameters": {},
   "duration": 12.261897,
   "end_time": "2022-07-18T11:14:23.872194",
   "environment_variables": {},
   "exception": null,
   "input_path": "__notebook__.ipynb",
   "output_path": "__notebook__.ipynb",
   "parameters": {},
   "start_time": "2022-07-18T11:14:11.610297",
   "version": "2.3.4"
  }
 },
 "nbformat": 4,
 "nbformat_minor": 5
}
